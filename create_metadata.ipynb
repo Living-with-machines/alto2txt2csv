{
 "cells": [
  {
   "cell_type": "markdown",
   "id": "2ad2a8d7",
   "metadata": {},
   "source": [
    "# Create Metadata\n",
    "\n",
    "This notebook creates metadata for each newspaper title saved as a CSV file. All metadata is collected from the `metadata.csv.zip` file."
   ]
  },
  {
   "cell_type": "code",
   "execution_count": 1,
   "id": "641d361f",
   "metadata": {},
   "outputs": [],
   "source": [
    "import pandas as pd\n",
    "from pathlib import Path\n",
    "from tqdm import tqdm"
   ]
  },
  {
   "cell_type": "code",
   "execution_count": null,
   "id": "1cc6d864",
   "metadata": {},
   "outputs": [],
   "source": [
    "# select collection to process\n",
    "# lwm is the Living with Machines dataset\n",
    "# hmd is the Heritage Made Digital dataset\n",
    "root_dir = Path('path/to/csv')\n",
    "collections = 'hmd' # 'hmd' | 'lwm'"
   ]
  },
  {
   "cell_type": "code",
   "execution_count": 3,
   "id": "9754ec43",
   "metadata": {},
   "outputs": [],
   "source": [
    "Path(f'{collections}-metadata').mkdir(exist_ok=True)"
   ]
  },
  {
   "cell_type": "code",
   "execution_count": 4,
   "id": "4d990d05",
   "metadata": {},
   "outputs": [],
   "source": [
    "\n",
    "files = list(Path(f'{root_dir}/{collections}-csv/').glob('[!.]*.csv'))\n",
    "nlps = [f.stem.split('_')[0] for f in files]"
   ]
  },
  {
   "cell_type": "code",
   "execution_count": null,
   "id": "e08c137c",
   "metadata": {},
   "outputs": [
    {
     "data": {
      "text/plain": [
       "14"
      ]
     },
     "execution_count": 5,
     "metadata": {},
     "output_type": "execute_result"
    }
   ],
   "source": [
    "# number of titles to process\n",
    "len(nlps)"
   ]
  },
  {
   "cell_type": "code",
   "execution_count": 6,
   "id": "55c3fa19",
   "metadata": {},
   "outputs": [
    {
     "name": "stderr",
     "output_type": "stream",
     "text": [
      "/var/folders/d2/ydv0grbd38985h6_95t0vdjw0000gp/T/ipykernel_8452/3434121404.py:1: DtypeWarning: Columns (16,20) have mixed types. Specify dtype option on import or set low_memory=False.\n",
      "  metadata = pd.read_csv('data/metadata.csv.zip')\n"
     ]
    }
   ],
   "source": [
    "metadata = pd.read_csv('data/metadata.csv.zip')"
   ]
  },
  {
   "cell_type": "code",
   "execution_count": null,
   "id": "244cc747",
   "metadata": {},
   "outputs": [
    {
     "name": "stderr",
     "output_type": "stream",
     "text": [
      "100%|██████████| 14/14 [14:39<00:00, 62.81s/it]  \n"
     ]
    }
   ],
   "source": [
    "# add metadata and collect information on titles and counts per year\n",
    "counts, titles = [], [], \n",
    "for nlp in tqdm(nlps):\n",
    "    df = pd.read_csv(f'{root_dir}/{collections}-csv/{nlp}.csv')\n",
    "    titles.extend(df.newspaper_title.unique().tolist())\n",
    "    counts.append(df.groupby('year').size().to_dict())\n",
    "    df_meta = metadata[metadata.NLP==int(nlp)]\n",
    "    df_meta[['month','NLP', 'Title','index_npd', 'id',\n",
    "       'chain_id', 'S-TITLE', 'D-EST', 'S-POL', 'S-PRICE', 'DISTRICT',\n",
    "       'DISTRICT_PUB', 'COUNTY', 'D-PUB', 'E-LOC', 'E-ORG', 'E-PER']].to_csv(f'{collections}-metadata/{nlp}_metadata.csv', index=False)"
   ]
  },
  {
   "cell_type": "code",
   "execution_count": 8,
   "id": "71916581",
   "metadata": {},
   "outputs": [
    {
     "data": {
      "text/plain": [
       "(np.int64(2901554), np.int64(1801), np.int64(1871))"
      ]
     },
     "execution_count": 8,
     "metadata": {},
     "output_type": "execute_result"
    }
   ],
   "source": [
    "df_year = pd.DataFrame(counts).fillna(0).astype(int).sum(axis=0).sort_index()\n",
    "df_year.sum(),df_year.index.min(), df_year.index.max()"
   ]
  },
  {
   "cell_type": "code",
   "execution_count": null,
   "id": "ff9ac6e6",
   "metadata": {},
   "outputs": [
    {
     "data": {
      "image/png": "[encoded data removed]",
      "text/plain": [
       "<Figure size 1500x400 with 1 Axes>"
      ]
     },
     "metadata": {},
     "output_type": "display_data"
    }
   ],
   "source": [
    "# plot number of items per year\n",
    "fig = df_year.plot(kind='bar' ,title='Number of items per year', figsize=(15,4)  )\n",
    "fig.figure.savefig(f'figures/{collections}_items_per_year.png', bbox_inches='tight')"
   ]
  },
  {
   "cell_type": "code",
   "execution_count": 10,
   "id": "3b842b69",
   "metadata": {},
   "outputs": [
    {
     "data": {
      "text/plain": [
       "14"
      ]
     },
     "execution_count": 10,
     "metadata": {},
     "output_type": "execute_result"
    }
   ],
   "source": [
    "len(titles)"
   ]
  },
  {
   "cell_type": "code",
   "execution_count": 11,
   "id": "53b7ea14",
   "metadata": {},
   "outputs": [
    {
     "data": {
      "text/plain": [
       "365"
      ]
     },
     "execution_count": 11,
     "metadata": {},
     "output_type": "execute_result"
    }
   ],
   "source": [
    "open(f'data/{collections}-titles.txt', 'w').write('\\n'.join(sorted(titles)))"
   ]
  },
  {
   "cell_type": "code",
   "execution_count": null,
   "id": "e41df94d",
   "metadata": {},
   "outputs": [],
   "source": []
  },
  {
   "cell_type": "code",
   "execution_count": null,
   "id": "a16f4016",
   "metadata": {},
   "outputs": [],
   "source": []
  },
  {
   "cell_type": "code",
   "execution_count": null,
   "id": "780f8a62",
   "metadata": {},
   "outputs": [],
   "source": []
  },
  {
   "cell_type": "code",
   "execution_count": null,
   "id": "40a706e8",
   "metadata": {},
   "outputs": [],
   "source": []
  }
 ],
 "metadata": {
  "kernelspec": {
   "display_name": "hopt",
   "language": "python",
   "name": "python3"
  },
  "language_info": {
   "codemirror_mode": {
    "name": "ipython",
    "version": 3
   },
   "file_extension": ".py",
   "mimetype": "text/x-python",
   "name": "python",
   "nbconvert_exporter": "python",
   "pygments_lexer": "ipython3",
   "version": "3.12.0"
  }
 },
 "nbformat": 4,
 "nbformat_minor": 5
}
