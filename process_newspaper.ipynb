{
 "cells": [
  {
   "cell_type": "code",
   "execution_count": null,
   "metadata": {},
   "outputs": [],
   "source": [
    "from tools.handlers import Zip2CSV\n",
    "from pathlib import Path"
   ]
  },
  {
   "cell_type": "code",
   "execution_count": null,
   "metadata": {},
   "outputs": [],
   "source": [
    "# we assume the alto2txt files are already downloaded and in the same folder as the notebook\n",
    "# the folder names are usually structured as '{collection_name}-alto2txt'\n",
    "collection_name = 'bna'\n",
    "collection_path = '/Volumes/X9 Pro/'\n",
    "nlp_ids = [p.stem.split('_')[0] for p in Path(f'{collection_path}/{collection_name}-alto2txt/metadata').glob('[!.]*.zip')]\n",
    "len(nlp_ids)"
   ]
  },
  {
   "cell_type": "code",
   "execution_count": null,
   "metadata": {},
   "outputs": [],
   "source": [
    "for nlp in nlp_ids:\n",
    "    corpus = Zip2CSV(nlp=nlp, directory=f'{collection_path}/{collection_name}-alto2txt', include_text=False)\n",
    "    corpus.convert(f'{collection_path}/{collection_name}-csv')"
   ]
  },
  {
   "cell_type": "code",
   "execution_count": null,
   "metadata": {},
   "outputs": [],
   "source": []
  },
  {
   "cell_type": "code",
   "execution_count": null,
   "metadata": {},
   "outputs": [],
   "source": [
    "%load_ext autoreload\n",
    "%autoreload 2"
   ]
  },
  {
   "cell_type": "code",
   "execution_count": null,
   "metadata": {},
   "outputs": [],
   "source": []
  }
 ],
 "metadata": {
  "kernelspec": {
   "display_name": "ce",
   "language": "python",
   "name": "python3"
  },
  "language_info": {
   "codemirror_mode": {
    "name": "ipython",
    "version": 3
   },
   "file_extension": ".py",
   "mimetype": "text/x-python",
   "name": "python",
   "nbconvert_exporter": "python",
   "pygments_lexer": "ipython3",
   "version": "3.9.18"
  }
 },
 "nbformat": 4,
 "nbformat_minor": 2
}
