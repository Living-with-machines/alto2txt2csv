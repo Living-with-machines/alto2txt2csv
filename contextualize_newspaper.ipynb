{
 "cells": [
  {
   "cell_type": "markdown",
   "metadata": {},
   "source": [
    "# Add Context to Newspaper CSV\n",
    "\n",
    "Example code to add reference data (or extended metadata) to a newspaper title\n"
   ]
  },
  {
   "cell_type": "code",
   "execution_count": 2,
   "metadata": {},
   "outputs": [],
   "source": [
    "import pandas as pd\n",
    "from tools.handlers import add_context"
   ]
  },
  {
   "cell_type": "code",
   "execution_count": null,
   "metadata": {},
   "outputs": [],
   "source": [
    "# load data\n",
    "nlp = '0002980' # select a newspaper title to process by NLP id\n",
    "collections = 'lwm' # 'hmd' | 'lwm' select collection to process to which the title belongs\n",
    "root_dir = '/path/to/newspaper/data' # path to the folder containing the csv folders\n",
    "df = pd.read_csv(f'{root_dir}/{collections}-csv/{nlp}.csv') # read the csv file for the selected title\n",
    "df_metadata = pd.read_csv(f'{root_dir}/{collections}-metadata/{nlp}_metadata.csv') # read the metadata file "
   ]
  },
  {
   "cell_type": "code",
   "execution_count": null,
   "metadata": {},
   "outputs": [],
   "source": [
    "# merge data and metadata\n",
    "df_merged = add_context(df, df_metadata) # add context to the dataframe\n",
    "df_merged.head()"
   ]
  }
 ],
 "metadata": {
  "kernelspec": {
   "display_name": "hopt",
   "language": "python",
   "name": "python3"
  },
  "language_info": {
   "codemirror_mode": {
    "name": "ipython",
    "version": 3
   },
   "file_extension": ".py",
   "mimetype": "text/x-python",
   "name": "python",
   "nbconvert_exporter": "python",
   "pygments_lexer": "ipython3",
   "version": "3.12.0"
  }
 },
 "nbformat": 4,
 "nbformat_minor": 2
}
